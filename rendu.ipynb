{
 "cells": [
  {
   "cell_type": "markdown",
   "id": "80ce3013-69af-4f15-8bda-8717464edb6b",
   "metadata": {},
   "source": [
    "# Set up du jupyter notebook"
   ]
  },
  {
   "cell_type": "code",
   "execution_count": null,
   "id": "3451c99e-01e4-4702-b544-a93c096c0f54",
   "metadata": {},
   "outputs": [],
   "source": [
    "# Paramètre(s) du notebook\n",
    "\n",
    "# VERBOSE=True\n",
    "VERBOSE=True\n",
    "\n",
    "OPTIONS=\"\"\n",
    "if not VERBOSE:\n",
    "    OPTIONS=\"--quiet\""
   ]
  },
  {
   "cell_type": "markdown",
   "id": "bcc2630e-4cb1-4b53-82c2-a0e99b1d2621",
   "metadata": {},
   "source": [
    "## Dépendances"
   ]
  },
  {
   "cell_type": "code",
   "execution_count": null,
   "id": "5f6fb595-83de-435b-9484-70823b113c57",
   "metadata": {},
   "outputs": [],
   "source": [
    "#library non présente directement dans le SSPCloud\n",
    "\n",
    "!pip install geopandas $OPTIONS\n",
    "!pip install plotly $OPTIONS\n",
    "!pip install matplotlib"
   ]
  },
  {
   "cell_type": "code",
   "execution_count": null,
   "id": "57a00d02-f515-44d3-8012-dab69f19e191",
   "metadata": {},
   "outputs": [],
   "source": [
    "# library externes\n",
    "\n",
    "import matplotlib.pyplot as plt\n",
    "import geopandas as gpd\n",
    "import pandas as pd \n",
    "import plotly.express as px\n",
    "from IPython.core.display import display, HTML\n",
    "\n",
    "#library internes\n",
    "\n",
    "import enquete_sport as *\n",
    "import equip_sport as *\n",
    "import filosofi as *"
   ]
  },
  {
   "cell_type": "markdown",
   "id": "70fa4945-0839-4368-900a-b50eecc3fae1",
   "metadata": {},
   "source": [
    "# Données filosofi"
   ]
  },
  {
   "cell_type": "markdown",
   "id": "2da688d2-fcc6-44e3-a30a-6edaed7eba63",
   "metadata": {},
   "source": [
    "## Scrapping"
   ]
  },
  {
   "cell_type": "markdown",
   "id": "87d2fe91-8810-4146-be3c-c2187a6514f5",
   "metadata": {},
   "source": [
    "## Cleaning"
   ]
  },
  {
   "cell_type": "markdown",
   "id": "aebf1066-94bb-4428-a776-a69eed96193c",
   "metadata": {},
   "source": [
    "## Visualisation"
   ]
  },
  {
   "cell_type": "markdown",
   "id": "c4fddcfd-8061-41e9-a547-0e8e86a70d33",
   "metadata": {},
   "source": [
    "# Données de l'enquête des pratiques sportives"
   ]
  },
  {
   "cell_type": "markdown",
   "id": "315630a5-f83f-4e18-8ac2-31bfea71f114",
   "metadata": {},
   "source": [
    "## Scrapping"
   ]
  },
  {
   "cell_type": "markdown",
   "id": "fd0d6782-a7b0-47c9-aec2-b2b951b14c85",
   "metadata": {},
   "source": [
    "## Cleaning"
   ]
  },
  {
   "cell_type": "markdown",
   "id": "3e01d306-1e39-4452-87e3-9d3c6c52a57e",
   "metadata": {},
   "source": [
    "## Visualisation"
   ]
  }
 ],
 "metadata": {
  "kernelspec": {
   "display_name": "Python 3 (ipykernel)",
   "language": "python",
   "name": "python3"
  },
  "language_info": {
   "codemirror_mode": {
    "name": "ipython",
    "version": 3
   },
   "file_extension": ".py",
   "mimetype": "text/x-python",
   "name": "python",
   "nbconvert_exporter": "python",
   "pygments_lexer": "ipython3",
   "version": "3.10.4"
  }
 },
 "nbformat": 4,
 "nbformat_minor": 5
}
