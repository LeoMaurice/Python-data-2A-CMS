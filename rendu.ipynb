{
 "cells": [
  {
   "cell_type": "markdown",
   "id": "80ce3013-69af-4f15-8bda-8717464edb6b",
   "metadata": {},
   "source": [
    "# Set up du jupyter notebook"
   ]
  },
  {
   "cell_type": "code",
   "execution_count": null,
   "id": "3451c99e-01e4-4702-b544-a93c096c0f54",
   "metadata": {},
   "outputs": [],
   "source": [
    "# Paramètre(s) du notebook\n",
    "\n",
    "ignore_warning=True\n",
    "\n",
    "# VERBOSE=True\n",
    "VERBOSE=True\n",
    "\n",
    "OPTIONS=\"\"\n",
    "if not VERBOSE:\n",
    "    OPTIONS=\"--quiet\""
   ]
  },
  {
   "cell_type": "markdown",
   "id": "bcc2630e-4cb1-4b53-82c2-a0e99b1d2621",
   "metadata": {},
   "source": [
    "## Dépendances"
   ]
  },
  {
   "cell_type": "code",
   "execution_count": null,
   "id": "5f6fb595-83de-435b-9484-70823b113c57",
   "metadata": {},
   "outputs": [],
   "source": [
    "#library non présente directement dans le SSPCloud\n",
    "\n",
    "!pip install geopandas $OPTIONS\n",
    "!pip install plotly $OPTIONS\n",
    "!pip install matplotlib\n",
    "\n",
    "!pip install git+https://github.com/InseeFrLab/Py-Insee-Data@52139da402bc33da6b8892d7d3208f1d2ddfaa02 --ignore-install PyYAML $OPTIONS\n",
    "!pip install python-Levenshtein $OPTIONS\n",
    "!pip install openpyxl $OPTIONS\n",
    "!pip install fuzzywuzzy $OPTIONS\n",
    "#!pip install pynsee[full]"
   ]
  },
  {
   "cell_type": "code",
   "execution_count": null,
   "id": "57a00d02-f515-44d3-8012-dab69f19e191",
   "metadata": {},
   "outputs": [],
   "source": [
    "#library internes\n",
    "\n",
    "import enquete_sport as *\n",
    "import equip_sport as *\n",
    "import filosofi as *\n",
    "\n",
    "# library externes\n",
    "\n",
    "# library carte\n",
    "\n",
    "import matplotlib.pyplot as plt\n",
    "import geopandas as gpd\n",
    "import plotly.express as px\n",
    "from IPython.core.display import display, HTML\n",
    "\n",
    "# Importation des librairies classiques de python\n",
    "import unicodedata\n",
    "import requests\n",
    "import time\n",
    "import os\n",
    "from tqdm import tqdm\n",
    "import io\n",
    "import warnings\n",
    "\n",
    "# Importation des librairies de datascience et autres\n",
    "import pandas as pd\n",
    "import numpy as np\n",
    "import pynsee\n",
    "import pynsee.download\n",
    "from pynsee.sirene import *\n",
    "from pynsee.utils.init_conn import init_conn\n",
    "from zipfile import ZipFile\n",
    "from fuzzywuzzy import fuzz"
   ]
  },
  {
   "cell_type": "markdown",
   "id": "49c21bb4-ffb0-42ad-9e6e-7aae3b4c4878",
   "metadata": {},
   "source": [
    "# Données de l'enquête des pratiques sportives"
   ]
  },
  {
   "cell_type": "markdown",
   "id": "2da688d2-fcc6-44e3-a30a-6edaed7eba63",
   "metadata": {},
   "source": [
    "## Scrapping"
   ]
  },
  {
   "cell_type": "markdown",
   "id": "87d2fe91-8810-4146-be3c-c2187a6514f5",
   "metadata": {},
   "source": [
    "## Cleaning"
   ]
  },
  {
   "cell_type": "markdown",
   "id": "aebf1066-94bb-4428-a776-a69eed96193c",
   "metadata": {},
   "source": [
    "## Visualisation"
   ]
  },
  {
   "cell_type": "markdown",
   "id": "c4fddcfd-8061-41e9-a547-0e8e86a70d33",
   "metadata": {},
   "source": [
    "# Données filosofi"
   ]
  },
  {
   "cell_type": "markdown",
   "id": "315630a5-f83f-4e18-8ac2-31bfea71f114",
   "metadata": {},
   "source": [
    "## Scrapping"
   ]
  },
  {
   "cell_type": "code",
   "execution_count": null,
   "id": "a0e39f80-566e-41fb-89be-b8137127c4f2",
   "metadata": {},
   "outputs": [],
   "source": [
    "# identifiant pour l'API INSEE\n",
    "\n",
    "insee_key = \"5L9J5YHbHq6lgCfv8ITH6f429VEa\"\n",
    "insee_secret = \"XbyKQqhwVnofxT_ciBVksw8ffU8a\""
   ]
  },
  {
   "cell_type": "code",
   "execution_count": null,
   "id": "a77bd11f-8646-4fe5-b0d5-e59db5453bb4",
   "metadata": {},
   "outputs": [],
   "source": [
    "# token API insee\n",
    "#init_conn(insee_key=os.environ['INSEE_KEY'], insee_secret=os.environ['INSEE_SECRET'])\n",
    "init_conn(insee_key=insee_key, insee_secret=insee_secret)"
   ]
  },
  {
   "cell_type": "markdown",
   "id": "f62ae9f3-6b04-4a4b-941a-34e4bce6bb5b",
   "metadata": {},
   "source": [
    "### Outils d'appareillement de code commune (qui varient d'année en année)"
   ]
  },
  {
   "cell_type": "markdown",
   "id": "2dccb22d-55ba-4e8b-b7ae-a4d8abda66e7",
   "metadata": {},
   "source": [
    "Le choix est fait de travailler en code géographique de 2021, ce qu'on récupère à travers pyinsee et l'API"
   ]
  },
  {
   "cell_type": "code",
   "execution_count": null,
   "id": "81886f93-ae46-42a2-b27c-47e58014df83",
   "metadata": {},
   "outputs": [],
   "source": [
    "donnees_cog_2021 = cog_2021()\n",
    "if not donnees_cog_2021.empty:\n",
    "    print(\"2 - Téléchargement du Code Officiel Géographi  ====> c'est bon \")\n",
    "else:\n",
    "    print(\"2 - Téléchargement du Code Officiel Géographi  ====> c'est pas bon \")"
   ]
  },
  {
   "cell_type": "code",
   "execution_count": null,
   "id": "68fad856-0e93-4168-b059-f59fa9caa674",
   "metadata": {},
   "outputs": [],
   "source": []
  },
  {
   "cell_type": "markdown",
   "id": "fd0d6782-a7b0-47c9-aec2-b2b951b14c85",
   "metadata": {},
   "source": [
    "## Cleaning"
   ]
  },
  {
   "cell_type": "markdown",
   "id": "3e01d306-1e39-4452-87e3-9d3c6c52a57e",
   "metadata": {},
   "source": [
    "## Visualisation"
   ]
  },
  {
   "cell_type": "code",
   "execution_count": null,
   "id": "3ab00530-c027-4740-b6fc-cfec6393f4fd",
   "metadata": {},
   "outputs": [],
   "source": [
    "# récupération temporaire à supprimer\n",
    "%store -r base_filosofi\n",
    "base_filosofi['dep']=str(base_filosofi.index)[:2]\n",
    "base_filosofi['dep'] = base_filosofi['dep'].replace({'2A': 20})\n",
    "base_filosofi['dep'] = base_filosofi['dep'].replace({'2B': 20})\n",
    "base_filosofi['dep']  = pd.to_numeric(base_filosofi['dep'])\n",
    "base_filosofi = base_filosofi.loc[base_filosofi[\"dep\"] <=95]"
   ]
  },
  {
   "cell_type": "code",
   "execution_count": null,
   "id": "1cb47c03-cc9d-4192-8cf0-1f6006d33af2",
   "metadata": {},
   "outputs": [],
   "source": [
    "communes = gpd_communes()\n",
    "# communes.sample(10)"
   ]
  },
  {
   "cell_type": "code",
   "execution_count": null,
   "id": "24957637-704f-401a-8eac-8c8071da15db",
   "metadata": {},
   "outputs": [],
   "source": [
    "#Carte du taux du revenu médian\n",
    "carte_communes_france_idf(communes, base_filosofi, 'rev_median','Reds','Revenu median')"
   ]
  }
 ],
 "metadata": {
  "kernelspec": {
   "display_name": "Python 3 (ipykernel)",
   "language": "python",
   "name": "python3"
  },
  "language_info": {
   "codemirror_mode": {
    "name": "ipython",
    "version": 3
   },
   "file_extension": ".py",
   "mimetype": "text/x-python",
   "name": "python",
   "nbconvert_exporter": "python",
   "pygments_lexer": "ipython3",
   "version": "3.10.4"
  }
 },
 "nbformat": 4,
 "nbformat_minor": 5
}
