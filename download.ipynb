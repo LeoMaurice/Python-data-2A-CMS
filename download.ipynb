{
 "cells": [
  {
   "cell_type": "markdown",
   "id": "71077196-20f0-47a0-a3af-1511afa4eff7",
   "metadata": {},
   "source": [
    "### Téléchargements des fichiers sur data.gouv"
   ]
  },
  {
   "cell_type": "code",
   "execution_count": null,
   "id": "07e8bbdc-5db4-4ee6-b9ef-69044b66d21f",
   "metadata": {},
   "outputs": [],
   "source": [
    "import requests\n",
    "import wget\n",
    "import pandas as pd"
   ]
  },
  {
   "cell_type": "code",
   "execution_count": null,
   "id": "931e1f7e-7e56-4017-8cad-db2a247cd31f",
   "metadata": {},
   "outputs": [],
   "source": [
    "!pip install wget"
   ]
  },
  {
   "cell_type": "code",
   "execution_count": null,
   "id": "ca1c064c-e784-433e-8cfb-643ab00e522d",
   "metadata": {},
   "outputs": [],
   "source": [
    "url_liste_licence = 'https://static.data.gouv.fr/resources/donnees-geocodees-issues-du-recensement-des-licences-et-clubs-aupres-des-federations-sportives-agreees-par-le-ministere-charge-des-sports/20220823-100513/lic-data-2019.csv'"
   ]
  },
  {
   "cell_type": "code",
   "execution_count": null,
   "id": "62af8920-eefc-400b-b4d2-dc9b7a1a5888",
   "metadata": {},
   "outputs": [],
   "source": [
    "wget.download(url_liste_licence, 'liste_license.csv')"
   ]
  },
  {
   "cell_type": "code",
   "execution_count": null,
   "id": "d72aa270-3bbc-4fb6-b670-03f2b2e54a2c",
   "metadata": {},
   "outputs": [],
   "source": [
    "df = pd.read_csv('liste_licence.csv', encoding = 'cp1250')"
   ]
  }
 ],
 "metadata": {
  "kernelspec": {
   "display_name": "Python 3 (ipykernel)",
   "language": "python",
   "name": "python3"
  },
  "language_info": {
   "codemirror_mode": {
    "name": "ipython",
    "version": 3
   },
   "file_extension": ".py",
   "mimetype": "text/x-python",
   "name": "python",
   "nbconvert_exporter": "python",
   "pygments_lexer": "ipython3",
   "version": "3.9.0"
  }
 },
 "nbformat": 4,
 "nbformat_minor": 5
}
