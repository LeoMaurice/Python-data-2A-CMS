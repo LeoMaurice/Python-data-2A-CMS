{
 "cells": [
  {
   "cell_type": "markdown",
   "id": "bf6340bd",
   "metadata": {},
   "source": [
    "### Téléchargements des fichiers sur data.gouv"
   ]
  },
  {
   "cell_type": "markdown",
   "id": "e73661bd",
   "metadata": {},
   "source": [
    "# ceci est un test"
   ]
  },
  {
   "cell_type": "code",
   "execution_count": 3,
   "id": "2b14ba54",
   "metadata": {},
   "outputs": [
    {
     "name": "stdout",
     "output_type": "stream",
     "text": [
      "Collecting wget\n",
      "  Downloading wget-3.2.zip (10 kB)\n",
      "  Preparing metadata (setup.py) ... \u001b[?25ldone\n",
      "\u001b[?25hBuilding wheels for collected packages: wget\n",
      "  Building wheel for wget (setup.py) ... \u001b[?25ldone\n",
      "\u001b[?25h  Created wheel for wget: filename=wget-3.2-py3-none-any.whl size=9675 sha256=11abe3a55863aa96b946bc7aa9cf712313196837c1f8261ae1810a59ee44fc28\n",
      "  Stored in directory: /home/onyxia/.cache/pip/wheels/04/5f/3e/46cc37c5d698415694d83f607f833f83f0149e49b3af9d0f38\n",
      "Successfully built wget\n",
      "Installing collected packages: wget\n",
      "Successfully installed wget-3.2\n"
     ]
    }
   ],
   "source": [
    "#bibliothèques à installer, car non présentes sur le ssp cloud\n",
    "#!pip install wget, ancienne méthode remplacée par requests"
   ]
  },
  {
   "cell_type": "code",
   "execution_count": 3,
   "id": "0d981a97",
   "metadata": {},
   "outputs": [],
   "source": [
    "#bibliothèques présentes sur le sspcloud\n",
    "import requests\n",
    "import pandas as pd"
   ]
  },
  {
   "cell_type": "code",
   "execution_count": 4,
   "id": "deb838ec",
   "metadata": {},
   "outputs": [],
   "source": [
    "nom_fichier=\"liste_licence.csv\"\n",
    "url_liste_licence_stable ='https://www.data.gouv.fr/fr/datasets/r/1825fde3-a668-47e3-a46d-b62b5af6560a'\n",
    "url_liste_licence = 'https://static.data.gouv.fr/resources/donnees-geocodees-issues-du-recensement-des-licences-et-clubs-aupres-des-federations-sportives-agreees-par-le-ministere-charge-des-sports/20220823-100513/lic-data-2019.csv'"
   ]
  },
  {
   "cell_type": "code",
   "execution_count": 5,
   "id": "1aa73d57",
   "metadata": {},
   "outputs": [
    {
     "ename": "ModuleNotFoundError",
     "evalue": "No module named 'wget'",
     "output_type": "error",
     "traceback": [
      "\u001b[0;31m---------------------------------------------------------------------------\u001b[0m",
      "\u001b[0;31mModuleNotFoundError\u001b[0m                       Traceback (most recent call last)",
      "Input \u001b[0;32mIn [5]\u001b[0m, in \u001b[0;36m<cell line: 2>\u001b[0;34m()\u001b[0m\n\u001b[1;32m      1\u001b[0m \u001b[38;5;66;03m#ancienne méthode A NE PAS UTILISER\u001b[39;00m\n\u001b[0;32m----> 2\u001b[0m \u001b[38;5;28;01mimport\u001b[39;00m \u001b[38;5;21;01mwget\u001b[39;00m\n\u001b[1;32m      3\u001b[0m wget\u001b[38;5;241m.\u001b[39mdownload(url_liste_licence, \u001b[38;5;124m'\u001b[39m\u001b[38;5;124mliste_licence.csv\u001b[39m\u001b[38;5;124m'\u001b[39m)\n",
      "\u001b[0;31mModuleNotFoundError\u001b[0m: No module named 'wget'"
     ]
    }
   ],
   "source": [
    "#ancienne méthode A NE PAS UTILISER\n",
    "import wget\n",
    "wget.download(url_liste_licence, 'liste_licence.csv')"
   ]
  },
  {
   "cell_type": "code",
   "execution_count": null,
   "id": "cda0ad46",
   "metadata": {},
   "outputs": [],
   "source": [
    "response = requests.get(url_liste_licence_stable, allow_redirects=True)\n",
    "#avec lien permanent : response = requests.get(url_liste_licence)\n",
    "if response.status_code == 200:\n",
    "    with open(nom_fichier, 'wb') as f:\n",
    "        f.write(response.content)\n",
    "else:\n",
    "    print('Problème sur la requête pour le fichier')\n"
   ]
  },
  {
   "cell_type": "code",
   "execution_count": 18,
   "id": "6f2b3631",
   "metadata": {},
   "outputs": [
    {
     "name": "stderr",
     "output_type": "stream",
     "text": [
      "/tmp/ipykernel_125/3470392467.py:1: DtypeWarning: Columns (0,49,50,51,52,53,57,59,60,61,62,63,67) have mixed types. Specify dtype option on import or set low_memory=False.\n",
      "  df = pd.read_csv('liste_licence.csv', header = 0, encoding = 'cp1250', sep=';')\n"
     ]
    }
   ],
   "source": [
    "df = pd.read_csv('liste_licence.csv', header = 0, encoding = 'cp1250', sep=';')"
   ]
  },
  {
   "cell_type": "code",
   "execution_count": 19,
   "id": "34897c87",
   "metadata": {},
   "outputs": [
    {
     "data": {
      "text/html": [
       "<div>\n",
       "<style scoped>\n",
       "    .dataframe tbody tr th:only-of-type {\n",
       "        vertical-align: middle;\n",
       "    }\n",
       "\n",
       "    .dataframe tbody tr th {\n",
       "        vertical-align: top;\n",
       "    }\n",
       "\n",
       "    .dataframe thead th {\n",
       "        text-align: right;\n",
       "    }\n",
       "</style>\n",
       "<table border=\"1\" class=\"dataframe\">\n",
       "  <thead>\n",
       "    <tr style=\"text-align: right;\">\n",
       "      <th></th>\n",
       "      <th>code_commune</th>\n",
       "      <th>libelle</th>\n",
       "      <th>region</th>\n",
       "      <th>fed_2019</th>\n",
       "      <th>nom_fed</th>\n",
       "      <th>l_2019</th>\n",
       "      <th>l_0_4_2019</th>\n",
       "      <th>l_5_9_2019</th>\n",
       "      <th>l_10_14_2019</th>\n",
       "      <th>l_15_19_2019</th>\n",
       "      <th>...</th>\n",
       "      <th>poph_2018</th>\n",
       "      <th>poph_0_4_2018</th>\n",
       "      <th>poph_5_9_2018</th>\n",
       "      <th>poph_10_14_2018</th>\n",
       "      <th>poph_15_19_2018</th>\n",
       "      <th>poph_20_29_2018</th>\n",
       "      <th>poph_30_44_2018</th>\n",
       "      <th>poph_45_59_2018</th>\n",
       "      <th>poph_60_74_2018</th>\n",
       "      <th>poph_75_2018</th>\n",
       "    </tr>\n",
       "  </thead>\n",
       "  <tbody>\n",
       "    <tr>\n",
       "      <th>0</th>\n",
       "      <td>1001</td>\n",
       "      <td>Abergement-Clémenciat</td>\n",
       "      <td>Auvergne-Rhône-Alpes</td>\n",
       "      <td>101</td>\n",
       "      <td>FF d'athlétisme</td>\n",
       "      <td>8</td>\n",
       "      <td>0</td>\n",
       "      <td>0</td>\n",
       "      <td>4</td>\n",
       "      <td>2</td>\n",
       "      <td>...</td>\n",
       "      <td>388.0</td>\n",
       "      <td>15</td>\n",
       "      <td>30</td>\n",
       "      <td>20</td>\n",
       "      <td>29</td>\n",
       "      <td>25</td>\n",
       "      <td>70</td>\n",
       "      <td>122</td>\n",
       "      <td>51</td>\n",
       "      <td>26</td>\n",
       "    </tr>\n",
       "    <tr>\n",
       "      <th>1</th>\n",
       "      <td>1001</td>\n",
       "      <td>Abergement-Clémenciat</td>\n",
       "      <td>Auvergne-Rhône-Alpes</td>\n",
       "      <td>103</td>\n",
       "      <td>FF de badminton</td>\n",
       "      <td>11</td>\n",
       "      <td>0</td>\n",
       "      <td>0</td>\n",
       "      <td>4</td>\n",
       "      <td>1</td>\n",
       "      <td>...</td>\n",
       "      <td>388.0</td>\n",
       "      <td>15</td>\n",
       "      <td>30</td>\n",
       "      <td>20</td>\n",
       "      <td>29</td>\n",
       "      <td>25</td>\n",
       "      <td>70</td>\n",
       "      <td>122</td>\n",
       "      <td>51</td>\n",
       "      <td>26</td>\n",
       "    </tr>\n",
       "    <tr>\n",
       "      <th>2</th>\n",
       "      <td>1001</td>\n",
       "      <td>Abergement-Clémenciat</td>\n",
       "      <td>Auvergne-Rhône-Alpes</td>\n",
       "      <td>105</td>\n",
       "      <td>FF de basketball</td>\n",
       "      <td>1</td>\n",
       "      <td>0</td>\n",
       "      <td>0</td>\n",
       "      <td>0</td>\n",
       "      <td>0</td>\n",
       "      <td>...</td>\n",
       "      <td>388.0</td>\n",
       "      <td>15</td>\n",
       "      <td>30</td>\n",
       "      <td>20</td>\n",
       "      <td>29</td>\n",
       "      <td>25</td>\n",
       "      <td>70</td>\n",
       "      <td>122</td>\n",
       "      <td>51</td>\n",
       "      <td>26</td>\n",
       "    </tr>\n",
       "    <tr>\n",
       "      <th>3</th>\n",
       "      <td>1001</td>\n",
       "      <td>Abergement-Clémenciat</td>\n",
       "      <td>Auvergne-Rhône-Alpes</td>\n",
       "      <td>108</td>\n",
       "      <td>FF de cyclisme</td>\n",
       "      <td>2</td>\n",
       "      <td>0</td>\n",
       "      <td>1</td>\n",
       "      <td>1</td>\n",
       "      <td>0</td>\n",
       "      <td>...</td>\n",
       "      <td>388.0</td>\n",
       "      <td>15</td>\n",
       "      <td>30</td>\n",
       "      <td>20</td>\n",
       "      <td>29</td>\n",
       "      <td>25</td>\n",
       "      <td>70</td>\n",
       "      <td>122</td>\n",
       "      <td>51</td>\n",
       "      <td>26</td>\n",
       "    </tr>\n",
       "    <tr>\n",
       "      <th>4</th>\n",
       "      <td>1001</td>\n",
       "      <td>Abergement-Clémenciat</td>\n",
       "      <td>Auvergne-Rhône-Alpes</td>\n",
       "      <td>109</td>\n",
       "      <td>FF d'équitation</td>\n",
       "      <td>10</td>\n",
       "      <td>0</td>\n",
       "      <td>0</td>\n",
       "      <td>2</td>\n",
       "      <td>2</td>\n",
       "      <td>...</td>\n",
       "      <td>388.0</td>\n",
       "      <td>15</td>\n",
       "      <td>30</td>\n",
       "      <td>20</td>\n",
       "      <td>29</td>\n",
       "      <td>25</td>\n",
       "      <td>70</td>\n",
       "      <td>122</td>\n",
       "      <td>51</td>\n",
       "      <td>26</td>\n",
       "    </tr>\n",
       "  </tbody>\n",
       "</table>\n",
       "<p>5 rows × 68 columns</p>\n",
       "</div>"
      ],
      "text/plain": [
       "  code_commune                libelle                region  fed_2019  \\\n",
       "0         1001  Abergement-Clémenciat  Auvergne-Rhône-Alpes       101   \n",
       "1         1001  Abergement-Clémenciat  Auvergne-Rhône-Alpes       103   \n",
       "2         1001  Abergement-Clémenciat  Auvergne-Rhône-Alpes       105   \n",
       "3         1001  Abergement-Clémenciat  Auvergne-Rhône-Alpes       108   \n",
       "4         1001  Abergement-Clémenciat  Auvergne-Rhône-Alpes       109   \n",
       "\n",
       "            nom_fed  l_2019  l_0_4_2019  l_5_9_2019  l_10_14_2019  \\\n",
       "0   FF d'athlétisme       8           0           0             4   \n",
       "1   FF de badminton      11           0           0             4   \n",
       "2  FF de basketball       1           0           0             0   \n",
       "3    FF de cyclisme       2           0           1             1   \n",
       "4   FF d'équitation      10           0           0             2   \n",
       "\n",
       "   l_15_19_2019  ...  poph_2018  poph_0_4_2018  poph_5_9_2018  \\\n",
       "0             2  ...      388.0             15             30   \n",
       "1             1  ...      388.0             15             30   \n",
       "2             0  ...      388.0             15             30   \n",
       "3             0  ...      388.0             15             30   \n",
       "4             2  ...      388.0             15             30   \n",
       "\n",
       "   poph_10_14_2018  poph_15_19_2018  poph_20_29_2018  poph_30_44_2018  \\\n",
       "0               20               29               25               70   \n",
       "1               20               29               25               70   \n",
       "2               20               29               25               70   \n",
       "3               20               29               25               70   \n",
       "4               20               29               25               70   \n",
       "\n",
       "   poph_45_59_2018  poph_60_74_2018  poph_75_2018  \n",
       "0              122               51            26  \n",
       "1              122               51            26  \n",
       "2              122               51            26  \n",
       "3              122               51            26  \n",
       "4              122               51            26  \n",
       "\n",
       "[5 rows x 68 columns]"
      ]
     },
     "execution_count": 19,
     "metadata": {},
     "output_type": "execute_result"
    }
   ],
   "source": [
    "df.head() "
   ]
  },
  {
   "cell_type": "markdown",
   "id": "7ce5199b",
   "metadata": {
    "tags": []
   },
   "source": [
    "# Tests d'encoding"
   ]
  },
  {
   "cell_type": "code",
   "execution_count": null,
   "id": "b048bd7e",
   "metadata": {},
   "outputs": [
    {
     "name": "stdout",
     "output_type": "stream",
     "text": [
      "0 : Now checking use of: cp1250\n"
     ]
    },
    {
     "name": "stderr",
     "output_type": "stream",
     "text": [
      "/tmp/ipykernel_183/3570628605.py:16: DtypeWarning: Columns (0,49,50,51,52,53,57,59,60,61,62,63,67) have mixed types. Specify dtype option on import or set low_memory=False.\n",
      "  df = pd.read_csv('liste_licence.csv', header = 0, encoding = (codecs[x]), sep=';')\n"
     ]
    },
    {
     "name": "stdout",
     "output_type": "stream",
     "text": [
      "  code_commune                libelle                region  fed_2019  \\\n",
      "0         1001  Abergement-Clémenciat  Auvergne-Rhône-Alpes       101   \n",
      "1         1001  Abergement-Clémenciat  Auvergne-Rhône-Alpes       103   \n",
      "2         1001  Abergement-Clémenciat  Auvergne-Rhône-Alpes       105   \n",
      "3         1001  Abergement-Clémenciat  Auvergne-Rhône-Alpes       108   \n",
      "4         1001  Abergement-Clémenciat  Auvergne-Rhône-Alpes       109   \n",
      "\n",
      "            nom_fed  l_2019  l_0_4_2019  l_5_9_2019  l_10_14_2019  \\\n",
      "0   FF d'athlétisme       8           0           0             4   \n",
      "1   FF de badminton      11           0           0             4   \n",
      "2  FF de basketball       1           0           0             0   \n",
      "3    FF de cyclisme       2           0           1             1   \n",
      "4   FF d'équitation      10           0           0             2   \n",
      "\n",
      "   l_15_19_2019  ...  poph_2018  poph_0_4_2018  poph_5_9_2018  \\\n",
      "0             2  ...      388.0             15             30   \n",
      "1             1  ...      388.0             15             30   \n",
      "2             0  ...      388.0             15             30   \n",
      "3             0  ...      388.0             15             30   \n",
      "4             2  ...      388.0             15             30   \n",
      "\n",
      "   poph_10_14_2018  poph_15_19_2018  poph_20_29_2018  poph_30_44_2018  \\\n",
      "0               20               29               25               70   \n",
      "1               20               29               25               70   \n",
      "2               20               29               25               70   \n",
      "3               20               29               25               70   \n",
      "4               20               29               25               70   \n",
      "\n",
      "   poph_45_59_2018  poph_60_74_2018  poph_75_2018  \n",
      "0              122               51            26  \n",
      "1              122               51            26  \n",
      "2              122               51            26  \n",
      "3              122               51            26  \n",
      "4              122               51            26  \n",
      "\n",
      "[5 rows x 68 columns]\n"
     ]
    }
   ],
   "source": [
    "import pandas as pd\n",
    "\n",
    "codecs = ['cp1250','ascii','big5','big5hkscs','cp037','cp273','cp424','cp437','cp500','cp720','cp737','cp775','cp850','cp852','cp855',\n",
    "          'cp856','cp857','cp858','cp860','cp861','cp862','cp863','cp864','cp865','cp866','cp869','cp874','cp875','cp932','cp949',\n",
    "          'cp950','cp1006','cp1026','cp1125','cp1140','cp1250','cp1251','cp1252','cp1253','cp1254','cp1255','cp1256','cp1257','cp1258',\n",
    "          'euc_jp','euc_jis_2004','euc_jisx0213','euc_kr','gb2312','gbk','gb18030','hz','iso2022_jp','iso2022_jp_1','iso2022_jp_2',\n",
    "          'iso2022_jp_2004','iso2022_jp_3','iso2022_jp_ext','iso2022_kr','latin_1','iso8859_2','iso8859_3','iso8859_4','iso8859_5','iso8859_6',\n",
    "          'iso8859_7','iso8859_8','iso8859_9','iso8859_10','iso8859_11','iso8859_13','iso8859_14','iso8859_15','iso8859_16','johab','koi8_r','koi8_t',\n",
    "          'koi8_u','kz1048','mac_cyrillic','mac_greek','mac_iceland','mac_latin2','mac_roman','mac_turkish','ptcp154','shift_jis','shift_jis_2004',\n",
    "          'shift_jisx0213','utf_32','utf_32_be','utf_32_le','utf_16','utf_16_be','utf_16_le','utf_7','utf_8','utf_8_sig']\n",
    "\n",
    "\n",
    "for x in range(len(codecs)):\n",
    "    print(x,': Now checking use of:', codecs[x])\n",
    "    try:\n",
    "        df = pd.read_csv('liste_licence.csv', header = 0, encoding = (codecs[x]), sep=';')\n",
    "        print(df.head())\n",
    "        print(input('Press any key...'))\n",
    "    except:\n",
    "        print('I can\\'t load data for', codecs[x], '\\n')\n",
    "        print(input('Press any key...'))"
   ]
  },
  {
   "cell_type": "markdown",
   "id": "cfefc79a",
   "metadata": {},
   "source": [
    "# Suite"
   ]
  }
 ],
 "metadata": {
  "kernelspec": {
   "display_name": "Python 3 (ipykernel)",
   "language": "python",
   "name": "python3"
  },
  "language_info": {
   "codemirror_mode": {
    "name": "ipython",
    "version": 3
   },
   "file_extension": ".py",
   "mimetype": "text/x-python",
   "name": "python",
   "nbconvert_exporter": "python",
   "pygments_lexer": "ipython3",
   "version": "3.9.10+"
  }
 },
 "nbformat": 4,
 "nbformat_minor": 5
}
